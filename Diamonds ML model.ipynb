{
 "cells": [
  {
   "cell_type": "code",
   "execution_count": 1,
   "metadata": {},
   "outputs": [],
   "source": [
    "import pandas as pd"
   ]
  },
  {
   "cell_type": "code",
   "execution_count": 2,
   "metadata": {},
   "outputs": [],
   "source": [
    "train = pd.read_csv('/home/markaw/Downloads/diamonds_train.csv')\n",
    "predict = pd.read_csv('/home/markaw/Downloads/diamonds_test.csv')"
   ]
  },
  {
   "cell_type": "code",
   "execution_count": 3,
   "metadata": {},
   "outputs": [],
   "source": [
    "TARGET = 'price'\n",
    "CAT_FEATURES = ['cut','color','clarity']\n",
    "NUM_FEATURES = ['carat','depth','table','x','y','z']\n",
    "\n",
    "for i in CAT_FEATURES:\n",
    "    train[i] = train[i].astype('category')\n",
    "    predict[i] = predict[i].astype('category')"
   ]
  },
  {
   "cell_type": "code",
   "execution_count": 4,
   "metadata": {},
   "outputs": [],
   "source": [
    "categorical_train_df = pd.get_dummies(train[CAT_FEATURES])\n",
    "numerical_train_df = train[NUM_FEATURES]\n",
    "train_df = pd.concat([categorical_train_df, numerical_train_df],axis=1)\n",
    "\n",
    "categorical_predict_df = pd.get_dummies(predict[CAT_FEATURES])\n",
    "numerical_predict_df = predict[NUM_FEATURES]\n",
    "predict_df = pd.concat([categorical_predict_df, numerical_predict_df],axis=1)"
   ]
  },
  {
   "cell_type": "code",
   "execution_count": 5,
   "metadata": {},
   "outputs": [],
   "source": [
    "FEATURES = categorical_train_df.columns.tolist() + numerical_train_df.columns.tolist()"
   ]
  },
  {
   "cell_type": "code",
   "execution_count": 6,
   "metadata": {},
   "outputs": [
    {
     "data": {
      "text/plain": [
       "matrix([[1., 0., 1., ..., 0., 0., 0.],\n",
       "        [1., 0., 1., ..., 0., 0., 0.],\n",
       "        [0., 1., 1., ..., 0., 0., 0.],\n",
       "        ...,\n",
       "        [1., 0., 1., ..., 0., 0., 0.],\n",
       "        [1., 0., 1., ..., 0., 0., 0.],\n",
       "        [1., 0., 1., ..., 0., 0., 0.]])"
      ]
     },
     "execution_count": 6,
     "metadata": {},
     "output_type": "execute_result"
    }
   ],
   "source": [
    "from sklearn.impute import SimpleImputer\n",
    "from sklearn.preprocessing import OneHotEncoder\n",
    "from sklearn.pipeline import Pipeline\n",
    "from sklearn.preprocessing import StandardScaler\n",
    "\n",
    "numerical_transformer = Pipeline(steps=[('imputer', SimpleImputer(strategy='mean',fill_value= None)),\n",
    "                                       ('scaler', StandardScaler())])\n",
    "\n",
    "categorical_transformer = Pipeline(steps=[('imputer', SimpleImputer(strategy='constant',\n",
    "                                                                   fill_value= None)),\n",
    "                                         ('econder', OneHotEncoder(handle_unknown='ignore'))])\n",
    "\n",
    "categorical_transformer.fit_transform(train_df[FEATURES]).todense()"
   ]
  },
  {
   "cell_type": "code",
   "execution_count": 12,
   "metadata": {},
   "outputs": [],
   "source": [
    "from sklearn.compose import ColumnTransformer\n",
    "preprocessor = ColumnTransformer(transformers=[('numerical_preprocessor', numerical_transformer, NUM_FEATURES),\n",
    "                                              ('categorical_preprocessor', categorical_transformer, CAT_FEATURES)])\n",
    "\n"
   ]
  },
  {
   "cell_type": "code",
   "execution_count": 13,
   "metadata": {},
   "outputs": [],
   "source": [
    "from sklearn.preprocessing import RobustScaler\n",
    "\n",
    "\n",
    "scaler = RobustScaler()\n",
    "X = scaler.fit_transform(train_df.select_dtypes(include='number'))\n",
    "y = train[TARGET]"
   ]
  },
  {
   "cell_type": "code",
   "execution_count": 14,
   "metadata": {},
   "outputs": [],
   "source": [
    "from sklearn.linear_model import LinearRegression\n",
    "\n",
    "model = Pipeline(steps=[('preprocessor', preprocessor),\n",
    "                       ('regressor', LinearRegression())])\n",
    "\n",
    "X_train = train_df[FEATURES]\n",
    "y_train = train[TARGET]\n"
   ]
  },
  {
   "cell_type": "code",
   "execution_count": 15,
   "metadata": {},
   "outputs": [],
   "source": [
    "from sklearn.linear_model import Lasso\n",
    "from sklearn.ensemble import RandomForestRegressor\n",
    "from sklearn.pipeline import Pipeline\n",
    "from sklearn import preprocessing\n",
    "\n",
    "\n",
    "model= Pipeline(steps=[('regressor', RandomForestRegressor())])\n",
    "model.fit(X_train,y_train)\n",
    "X_predict = scaler.transform(predict_df[FEATURES])\n",
    "predictions = model.predict(X_predict)"
   ]
  },
  {
   "cell_type": "code",
   "execution_count": 16,
   "metadata": {},
   "outputs": [],
   "source": [
    "diamond_id = predict['id']\n",
    "submission = pd.DataFrame({'id':diamond_id, 'price':predictions})\n",
    "submission.to_csv('submission_csv',index=False)"
   ]
  },
  {
   "cell_type": "code",
   "execution_count": null,
   "metadata": {},
   "outputs": [],
   "source": []
  },
  {
   "cell_type": "markdown",
   "metadata": {},
   "source": [
    "## Model options"
   ]
  },
  {
   "cell_type": "code",
   "execution_count": null,
   "metadata": {},
   "outputs": [],
   "source": [
    "from lightgbm import LGBMClassifier\n",
    "\n",
    "model = LGBMClassifier()\n",
    "\n",
    "model.fit(X,y)\n",
    "X_predict = scaler.transform(predict_df[FEATURES])\n",
    "predictions = model.predict(X_predict)"
   ]
  },
  {
   "cell_type": "code",
   "execution_count": null,
   "metadata": {},
   "outputs": [],
   "source": [
    "from sklearn.tree import DecisionTreeRegressor\n",
    "\n",
    "model = DecisionTreeRegressor(max_depth = 4)\n",
    "\n",
    "model.fit(X,y)\n",
    "X_predict = scaler.transform(predict_df[FEATURES])\n",
    "predictions = model.predict(X_predict)"
   ]
  },
  {
   "cell_type": "code",
   "execution_count": null,
   "metadata": {},
   "outputs": [],
   "source": [
    "from sklearn.model_selection import cross_val_score\n",
    "from sklearn import datasets, linear_model\n",
    "\n",
    "lasso = linear_model.Lasso()\n",
    "lasso.fit(X,y)\n",
    "X_predict = scaler.transform(predict_df[FEATURES])\n",
    "predictions = model.predict(X_predict)"
   ]
  },
  {
   "cell_type": "code",
   "execution_count": null,
   "metadata": {},
   "outputs": [],
   "source": [
    "from sklearn.linear_model import Lasso\n",
    "from sklearn.ensemble import RandomForestRegressor\n",
    "from sklearn.pipeline import Pipeline\n",
    "from sklearn import preprocessing\n",
    "\n",
    "\n",
    "model= Pipeline(steps=[('regressor', RandomForestRegressor())])\n",
    "model.fit(X,y)\n",
    "X_predict = scaler.transform(predict_df[FEATURES])\n",
    "predictions = model.predict(X_predict)"
   ]
  }
 ],
 "metadata": {
  "kernelspec": {
   "display_name": "Python [conda env:ironhack_env]",
   "language": "python",
   "name": "conda-env-ironhack_env-py"
  },
  "language_info": {
   "codemirror_mode": {
    "name": "ipython",
    "version": 3
   },
   "file_extension": ".py",
   "mimetype": "text/x-python",
   "name": "python",
   "nbconvert_exporter": "python",
   "pygments_lexer": "ipython3",
   "version": "3.7.8"
  }
 },
 "nbformat": 4,
 "nbformat_minor": 4
}
