{
 "cells": [
  {
   "cell_type": "code",
   "execution_count": null,
   "metadata": {},
   "outputs": [],
   "source": [
    "import pandas as pd\n",
    "from sklearn.impute import SimpleImputer\n",
    "from sklearn.preprocessing import OneHotEncoder, OrdinalEncoder\n",
    "from sklearn.pipeline import Pipeline\n",
    "from sklearn.preprocessing import StandardScaler, RobustScaler\n",
    "from sklearn.compose import ColumnTransformer\n",
    "from lightgbm import LGBMRegressor\n",
    "from sklearn.model_selection import train_test_split"
   ]
  },
  {
   "cell_type": "code",
   "execution_count": null,
   "metadata": {},
   "outputs": [],
   "source": [
    "diamonds = pd.read_csv('/home/markaw/Downloads/diamonds_train.csv')\n",
    "predict = pd.read_csv('/home/markaw/Downloads/diamonds_test.csv')"
   ]
  },
  {
   "cell_type": "code",
   "execution_count": null,
   "metadata": {},
   "outputs": [],
   "source": [
    "TARGET = 'price'\n",
    "CAT_FEATURES = ['cut','color','clarity']\n",
    "NUM_FEATURES = ['carat','depth','table','x','y','z']\n",
    "\n",
    "FEATURES = CAT_FEATURES + NUM_FEATURES\n",
    "\n",
    "# for i in CAT_FEATURES:\n",
    "#     diamonds[i] = diamonds[i].astype('category')\n",
    "#     predict[i] = predict[i].astype('category')"
   ]
  },
  {
   "cell_type": "code",
   "execution_count": null,
   "metadata": {},
   "outputs": [],
   "source": [
    "numerical_transformer = Pipeline(steps=[('imputer', SimpleImputer(strategy='mean')),\n",
    "                                       ('scaler', RobustScaler())])\n",
    "\n",
    "numerical_transformer.fit_transform(diamonds[NUM_FEATURES])\n"
   ]
  },
  {
   "cell_type": "code",
   "execution_count": null,
   "metadata": {},
   "outputs": [],
   "source": [
    "categorical_transformer = Pipeline(steps=[('imputer', SimpleImputer(strategy='constant', fill_value = 'missing')),                                                                \n",
    "                                         ('ecoder', OrdinalEncoder(handle_unknown='ignore'))])\n",
    "\n",
    "\n",
    "categorical_transformer.fit_transform(diamonds[CAT_FEATURES])\n"
   ]
  },
  {
   "cell_type": "code",
   "execution_count": null,
   "metadata": {},
   "outputs": [],
   "source": [
    "preprocessor = ColumnTransformer(transformers=[('numerical_preprocessor', numerical_transformer, NUM_FEATURES),\n",
    "                                              ('categorical_preprocessor', categorical_transformer, CAT_FEATURES)])\n",
    "\n",
    "pd.DataFrame(data=preprocessor.fit_transform(diamonds[FEATURES]))"
   ]
  },
  {
   "cell_type": "code",
   "execution_count": null,
   "metadata": {},
   "outputs": [],
   "source": [
    "train, test = train_test_split(diamonds)\n",
    "\n",
    "model = Pipeline(steps=[('preprocessor', preprocessor),\n",
    "                       ('regressor', LGBMRegressor(n_jobs=-1))])\n",
    "\n",
    "X = diamonds[FEATURES]\n",
    "y = diamonds[TARGET]"
   ]
  },
  {
   "cell_type": "code",
   "execution_count": null,
   "metadata": {},
   "outputs": [],
   "source": [
    "model.fit(X, y);"
   ]
  },
  {
   "cell_type": "code",
   "execution_count": null,
   "metadata": {},
   "outputs": [],
   "source": [
    "from sklearn.model_selection import RandomizedSearchCV\n",
    "\n",
    "parameter_grid = {'regressor__max_depth' : [2,4,6,8,11,16],\n",
    "                  'regressor__n_estimators' : [64, 128, 256, 512, 1024],\n",
    "                  'regressor__learning_rate' : [0.1, 0.01, 0.001],\n",
    "                  'preprocessor__numerical_preprocessor__imputer__strategy' : ['mean', 'median']}"
   ]
  },
  {
   "cell_type": "code",
   "execution_count": null,
   "metadata": {},
   "outputs": [],
   "source": [
    "grid_search = RandomizedSearchCV(model, parameter_grid, cv=5, scoring='neg_root_mean_squared_error', n_jobs=-1, n_iter=20)"
   ]
  },
  {
   "cell_type": "code",
   "execution_count": null,
   "metadata": {},
   "outputs": [],
   "source": [
    "grid_search.fit(X, y)"
   ]
  },
  {
   "cell_type": "code",
   "execution_count": null,
   "metadata": {},
   "outputs": [],
   "source": [
    "submission = grid_search.predict(predict[FEATURES])\n",
    "submission = pd.DataFrame({'id':predict['id'], 'price':submission})\n",
    "submission.to_csv('submission_csv',index=False)"
   ]
  },
  {
   "cell_type": "markdown",
   "metadata": {},
   "source": [
    "## Model options"
   ]
  },
  {
   "cell_type": "code",
   "execution_count": null,
   "metadata": {},
   "outputs": [],
   "source": [
    "from lightgbm import LGBMClassifier\n",
    "\n",
    "model = LGBMClassifier()\n",
    "\n",
    "model.fit(X,y)\n",
    "X_predict = scaler.transform(predict_df[FEATURES])\n",
    "predictions = model.predict(X_predict)"
   ]
  },
  {
   "cell_type": "code",
   "execution_count": null,
   "metadata": {},
   "outputs": [],
   "source": [
    "from sklearn.tree import DecisionTreeRegressor\n",
    "\n",
    "model = DecisionTreeRegressor(max_depth = 4)\n",
    "\n",
    "model.fit(X,y)\n",
    "X_predict = scaler.transform(predict_df[FEATURES])\n",
    "predictions = model.predict(X_predict)"
   ]
  },
  {
   "cell_type": "code",
   "execution_count": null,
   "metadata": {},
   "outputs": [],
   "source": [
    "from sklearn.model_selection import cross_val_score\n",
    "from sklearn import datasets, linear_model\n",
    "\n",
    "lasso = linear_model.Lasso()\n",
    "lasso.fit(X,y)\n",
    "X_predict = scaler.transform(predict_df[FEATURES])\n",
    "predictions = model.predict(X_predict)"
   ]
  },
  {
   "cell_type": "code",
   "execution_count": null,
   "metadata": {},
   "outputs": [],
   "source": [
    "from sklearn.linear_model import Lasso\n",
    "from sklearn.ensemble import RandomForestRegressor\n",
    "from sklearn.pipeline import Pipeline\n",
    "from sklearn import preprocessing\n",
    "\n",
    "\n",
    "model= Pipeline(steps=[('regressor', RandomForestRegressor())])\n",
    "model.fit(X,y)\n",
    "X_predict = scaler.transform(predict_df[FEATURES])\n",
    "predictions = model.predict(X_predict)"
   ]
  }
 ],
 "metadata": {
  "kernelspec": {
   "display_name": "Python [conda env:ironhack_env]",
   "language": "python",
   "name": "conda-env-ironhack_env-py"
  },
  "language_info": {
   "codemirror_mode": {
    "name": "ipython",
    "version": 3
   },
   "file_extension": ".py",
   "mimetype": "text/x-python",
   "name": "python",
   "nbconvert_exporter": "python",
   "pygments_lexer": "ipython3",
   "version": "3.7.8"
  }
 },
 "nbformat": 4,
 "nbformat_minor": 4
}
